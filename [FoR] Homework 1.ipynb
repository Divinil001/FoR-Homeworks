{
 "cells": [
  {
   "cell_type": "markdown",
   "metadata": {},
   "source": [
    "This is the code for Direct Kinematic Problem for ```FANUC R-2000iC/165F```. Done by Egor Sorokin."
   ]
  },
  {
   "cell_type": "markdown",
   "metadata": {},
   "source": [
    "Firstly, we import the ```SymPy``` libraray use symbolic expressions. And a function ```radians``` to convert degrees to radians. "
   ]
  },
  {
   "cell_type": "code",
   "execution_count": 1,
   "metadata": {},
   "outputs": [],
   "source": [
    "import sympy as sp\n",
    "from mpmath import radians"
   ]
  },
  {
   "cell_type": "markdown",
   "metadata": {},
   "source": [
    "In ```SymPy``` we initialize printing"
   ]
  },
  {
   "cell_type": "code",
   "execution_count": 2,
   "metadata": {},
   "outputs": [],
   "source": [
    "from sympy.physics.vector import init_vprinting\n",
    "init_vprinting(use_latex='mathjax', pretty_print=False)"
   ]
  },
  {
   "cell_type": "markdown",
   "metadata": {},
   "source": [
    "Then we declare the symbols for furher usage."
   ]
  },
  {
   "cell_type": "code",
   "execution_count": 3,
   "metadata": {},
   "outputs": [],
   "source": [
    "from sympy.physics.mechanics import dynamicsymbols"
   ]
  },
  {
   "cell_type": "code",
   "execution_count": 4,
   "metadata": {},
   "outputs": [
    {
     "data": {
      "text/latex": [
       "$\\displaystyle \\left( a, \\  \\alpha, \\  q_{1}, \\  q_{2}, \\  q_{3}, \\  q_{4}, \\  q_{5}, \\  q_{6}\\right)$"
      ],
      "text/plain": [
       "(a, alpha, q1, q2, q3, q4, q5, q6)"
      ]
     },
     "execution_count": 4,
     "metadata": {},
     "output_type": "execute_result"
    }
   ],
   "source": [
    "a, alpha, q1, q2, q3, q4, q5, q6 = dynamicsymbols('a alpha q1 q2 q3 q4 q5 q6')\n",
    "a, alpha, q1, q2, q3, q4, q5, q6"
   ]
  },
  {
   "cell_type": "markdown",
   "metadata": {},
   "source": [
    "Creating templates for translation matrices."
   ]
  },
  {
   "cell_type": "code",
   "execution_count": 5,
   "metadata": {},
   "outputs": [
    {
     "data": {
      "text/latex": [
       "$\\displaystyle \\left( \\left[\\begin{matrix}1 & 0 & 0 & a\\\\0 & 1 & 0 & 0\\\\0 & 0 & 1 & 0\\\\0 & 0 & 0 & 1\\end{matrix}\\right], \\  \\left[\\begin{matrix}1 & 0 & 0 & 0\\\\0 & 1 & 0 & a\\\\0 & 0 & 1 & 0\\\\0 & 0 & 0 & 1\\end{matrix}\\right], \\  \\left[\\begin{matrix}1 & 0 & 0 & 0\\\\0 & 1 & 0 & 0\\\\0 & 0 & 1 & a\\\\0 & 0 & 0 & 1\\end{matrix}\\right]\\right)$"
      ],
      "text/plain": [
       "(Matrix([\n",
       "[1, 0, 0, a],\n",
       "[0, 1, 0, 0],\n",
       "[0, 0, 1, 0],\n",
       "[0, 0, 0, 1]]), Matrix([\n",
       "[1, 0, 0, 0],\n",
       "[0, 1, 0, a],\n",
       "[0, 0, 1, 0],\n",
       "[0, 0, 0, 1]]), Matrix([\n",
       "[1, 0, 0, 0],\n",
       "[0, 1, 0, 0],\n",
       "[0, 0, 1, a],\n",
       "[0, 0, 0, 1]]))"
      ]
     },
     "execution_count": 5,
     "metadata": {},
     "output_type": "execute_result"
    }
   ],
   "source": [
    "trans_x = sp.Matrix([[1, 0, 0, a],\n",
    "                     [0, 1, 0, 0],\n",
    "                     [0, 0, 1, 0],\n",
    "                     [0, 0, 0, 1]])\n",
    "trans_y = sp.Matrix([[1, 0, 0, 0],\n",
    "                     [0, 1, 0, a],\n",
    "                     [0, 0, 1, 0],\n",
    "                     [0, 0, 0, 1]])\n",
    "trans_z = sp.Matrix([[1, 0, 0, 0],\n",
    "                     [0, 1, 0, 0],\n",
    "                     [0, 0, 1, a],\n",
    "                     [0, 0, 0, 1]])\n",
    "trans_x, trans_y, trans_z"
   ]
  },
  {
   "cell_type": "markdown",
   "metadata": {},
   "source": [
    "Creating templates for rotation matrices."
   ]
  },
  {
   "cell_type": "code",
   "execution_count": 6,
   "metadata": {
    "scrolled": true
   },
   "outputs": [
    {
     "data": {
      "text/latex": [
       "$\\displaystyle \\left( \\left[\\begin{matrix}1 & 0 & 0 & 0\\\\0 & \\operatorname{cos}\\left(\\alpha\\right) & - \\operatorname{sin}\\left(\\alpha\\right) & 0\\\\0 & \\operatorname{sin}\\left(\\alpha\\right) & \\operatorname{cos}\\left(\\alpha\\right) & 0\\\\0 & 0 & 0 & 1\\end{matrix}\\right], \\  \\left[\\begin{matrix}\\operatorname{cos}\\left(\\alpha\\right) & 0 & \\operatorname{sin}\\left(\\alpha\\right) & 0\\\\0 & 1 & 0 & 0\\\\- \\operatorname{sin}\\left(\\alpha\\right) & 0 & \\operatorname{cos}\\left(\\alpha\\right) & 0\\\\0 & 0 & 0 & 1\\end{matrix}\\right], \\  \\left[\\begin{matrix}\\operatorname{cos}\\left(\\alpha\\right) & - \\operatorname{sin}\\left(\\alpha\\right) & 0 & 0\\\\\\operatorname{sin}\\left(\\alpha\\right) & \\operatorname{cos}\\left(\\alpha\\right) & 0 & 0\\\\0 & 0 & 1 & 0\\\\0 & 0 & 0 & 1\\end{matrix}\\right]\\right)$"
      ],
      "text/plain": [
       "(Matrix([\n",
       "[1,          0,           0, 0],\n",
       "[0, cos(alpha), -sin(alpha), 0],\n",
       "[0, sin(alpha),  cos(alpha), 0],\n",
       "[0,          0,           0, 1]]), Matrix([\n",
       "[ cos(alpha), 0, sin(alpha), 0],\n",
       "[          0, 1,          0, 0],\n",
       "[-sin(alpha), 0, cos(alpha), 0],\n",
       "[          0, 0,          0, 1]]), Matrix([\n",
       "[cos(alpha), -sin(alpha), 0, 0],\n",
       "[sin(alpha),  cos(alpha), 0, 0],\n",
       "[         0,           0, 1, 0],\n",
       "[         0,           0, 0, 1]]))"
      ]
     },
     "execution_count": 6,
     "metadata": {},
     "output_type": "execute_result"
    }
   ],
   "source": [
    "rot_x = sp.Matrix([[1, 0, 0, 0],\n",
    "                   [0, sp.cos(alpha), -sp.sin(alpha), 0],\n",
    "                   [0, sp.sin(alpha), sp.cos(alpha), 0],\n",
    "                   [0, 0, 0, 1]])\n",
    "rot_y = sp.Matrix([[sp.cos(alpha), 0, sp.sin(alpha), 0],\n",
    "                   [0, 1, 0, 0],\n",
    "                   [-sp.sin(alpha), 0, sp.cos(alpha), 0],\n",
    "                   [0, 0, 0, 1]])\n",
    "rot_z = sp.Matrix([[sp.cos(alpha), -sp.sin(alpha), 0, 0],\n",
    "                   [sp.sin(alpha), sp.cos(alpha), 0, 0],\n",
    "                   [0, 0, 1, 0],\n",
    "                   [0, 0, 0, 1]])\n",
    "rot_x, rot_y, rot_z"
   ]
  },
  {
   "cell_type": "markdown",
   "metadata": {},
   "source": [
    "Initialazing parameters of the robot according to the parameters in the lecture"
   ]
  },
  {
   "cell_type": "code",
   "execution_count": 7,
   "metadata": {},
   "outputs": [],
   "source": [
    "d0 = 670\n",
    "d1 = 312\n",
    "d2 = 1075\n",
    "d3 = 1280\n",
    "d4 = 225\n",
    "d6 = 215"
   ]
  },
  {
   "cell_type": "markdown",
   "metadata": {},
   "source": [
    "Substituting parameters to the translating matrices..."
   ]
  },
  {
   "cell_type": "code",
   "execution_count": 8,
   "metadata": {},
   "outputs": [
    {
     "data": {
      "text/latex": [
       "$\\displaystyle \\left( \\left[\\begin{matrix}1 & 0 & 0 & 0\\\\0 & 1 & 0 & 0\\\\0 & 0 & 1 & 670\\\\0 & 0 & 0 & 1\\end{matrix}\\right], \\  \\left[\\begin{matrix}1 & 0 & 0 & 312\\\\0 & 1 & 0 & 0\\\\0 & 0 & 1 & 0\\\\0 & 0 & 0 & 1\\end{matrix}\\right], \\  \\left[\\begin{matrix}1 & 0 & 0 & 1075\\\\0 & 1 & 0 & 0\\\\0 & 0 & 1 & 0\\\\0 & 0 & 0 & 1\\end{matrix}\\right], \\  \\left[\\begin{matrix}1 & 0 & 0 & 1280\\\\0 & 1 & 0 & 0\\\\0 & 0 & 1 & 0\\\\0 & 0 & 0 & 1\\end{matrix}\\right], \\  \\left[\\begin{matrix}1 & 0 & 0 & 0\\\\0 & 1 & 0 & 0\\\\0 & 0 & 1 & 225\\\\0 & 0 & 0 & 1\\end{matrix}\\right], \\  \\left[\\begin{matrix}1 & 0 & 0 & 215\\\\0 & 1 & 0 & 0\\\\0 & 0 & 1 & 0\\\\0 & 0 & 0 & 1\\end{matrix}\\right]\\right)$"
      ],
      "text/plain": [
       "(Matrix([\n",
       "[1, 0, 0,   0],\n",
       "[0, 1, 0,   0],\n",
       "[0, 0, 1, 670],\n",
       "[0, 0, 0,   1]]), Matrix([\n",
       "[1, 0, 0, 312],\n",
       "[0, 1, 0,   0],\n",
       "[0, 0, 1,   0],\n",
       "[0, 0, 0,   1]]), Matrix([\n",
       "[1, 0, 0, 1075],\n",
       "[0, 1, 0,    0],\n",
       "[0, 0, 1,    0],\n",
       "[0, 0, 0,    1]]), Matrix([\n",
       "[1, 0, 0, 1280],\n",
       "[0, 1, 0,    0],\n",
       "[0, 0, 1,    0],\n",
       "[0, 0, 0,    1]]), Matrix([\n",
       "[1, 0, 0,   0],\n",
       "[0, 1, 0,   0],\n",
       "[0, 0, 1, 225],\n",
       "[0, 0, 0,   1]]), Matrix([\n",
       "[1, 0, 0, 215],\n",
       "[0, 1, 0,   0],\n",
       "[0, 0, 1,   0],\n",
       "[0, 0, 0,   1]]))"
      ]
     },
     "execution_count": 8,
     "metadata": {},
     "output_type": "execute_result"
    }
   ],
   "source": [
    "T1 = trans_z.subs({a:d0})\n",
    "T2 = trans_x.subs({a:d1})\n",
    "T3 = trans_x.subs({a:d2})\n",
    "T4 = trans_x.subs({a:d3})\n",
    "T5 = trans_z.subs({a:d4})\n",
    "T6 = trans_x.subs({a:d6})\n",
    "T1, T2, T3, T4, T5, T6"
   ]
  },
  {
   "cell_type": "markdown",
   "metadata": {},
   "source": [
    "...and for the rotation ones."
   ]
  },
  {
   "cell_type": "code",
   "execution_count": 9,
   "metadata": {},
   "outputs": [
    {
     "data": {
      "text/latex": [
       "$\\displaystyle \\left( \\left[\\begin{matrix}\\operatorname{cos}\\left(q_{1}\\right) & - \\operatorname{sin}\\left(q_{1}\\right) & 0 & 0\\\\\\operatorname{sin}\\left(q_{1}\\right) & \\operatorname{cos}\\left(q_{1}\\right) & 0 & 0\\\\0 & 0 & 1 & 0\\\\0 & 0 & 0 & 1\\end{matrix}\\right], \\  \\left[\\begin{matrix}\\operatorname{cos}\\left(q_{2}\\right) & 0 & \\operatorname{sin}\\left(q_{2}\\right) & 0\\\\0 & 1 & 0 & 0\\\\- \\operatorname{sin}\\left(q_{2}\\right) & 0 & \\operatorname{cos}\\left(q_{2}\\right) & 0\\\\0 & 0 & 0 & 1\\end{matrix}\\right], \\  \\left[\\begin{matrix}\\operatorname{cos}\\left(q_{3}\\right) & 0 & \\operatorname{sin}\\left(q_{3}\\right) & 0\\\\0 & 1 & 0 & 0\\\\- \\operatorname{sin}\\left(q_{3}\\right) & 0 & \\operatorname{cos}\\left(q_{3}\\right) & 0\\\\0 & 0 & 0 & 1\\end{matrix}\\right], \\  \\left[\\begin{matrix}1 & 0 & 0 & 0\\\\0 & \\operatorname{cos}\\left(q_{4}\\right) & - \\operatorname{sin}\\left(q_{4}\\right) & 0\\\\0 & \\operatorname{sin}\\left(q_{4}\\right) & \\operatorname{cos}\\left(q_{4}\\right) & 0\\\\0 & 0 & 0 & 1\\end{matrix}\\right], \\  \\left[\\begin{matrix}\\operatorname{cos}\\left(q_{5}\\right) & 0 & \\operatorname{sin}\\left(q_{5}\\right) & 0\\\\0 & 1 & 0 & 0\\\\- \\operatorname{sin}\\left(q_{5}\\right) & 0 & \\operatorname{cos}\\left(q_{5}\\right) & 0\\\\0 & 0 & 0 & 1\\end{matrix}\\right], \\  \\left[\\begin{matrix}1 & 0 & 0 & 0\\\\0 & \\operatorname{cos}\\left(q_{6}\\right) & - \\operatorname{sin}\\left(q_{6}\\right) & 0\\\\0 & \\operatorname{sin}\\left(q_{6}\\right) & \\operatorname{cos}\\left(q_{6}\\right) & 0\\\\0 & 0 & 0 & 1\\end{matrix}\\right]\\right)$"
      ],
      "text/plain": [
       "(Matrix([\n",
       "[cos(q1), -sin(q1), 0, 0],\n",
       "[sin(q1),  cos(q1), 0, 0],\n",
       "[      0,        0, 1, 0],\n",
       "[      0,        0, 0, 1]]), Matrix([\n",
       "[ cos(q2), 0, sin(q2), 0],\n",
       "[       0, 1,       0, 0],\n",
       "[-sin(q2), 0, cos(q2), 0],\n",
       "[       0, 0,       0, 1]]), Matrix([\n",
       "[ cos(q3), 0, sin(q3), 0],\n",
       "[       0, 1,       0, 0],\n",
       "[-sin(q3), 0, cos(q3), 0],\n",
       "[       0, 0,       0, 1]]), Matrix([\n",
       "[1,       0,        0, 0],\n",
       "[0, cos(q4), -sin(q4), 0],\n",
       "[0, sin(q4),  cos(q4), 0],\n",
       "[0,       0,        0, 1]]), Matrix([\n",
       "[ cos(q5), 0, sin(q5), 0],\n",
       "[       0, 1,       0, 0],\n",
       "[-sin(q5), 0, cos(q5), 0],\n",
       "[       0, 0,       0, 1]]), Matrix([\n",
       "[1,       0,        0, 0],\n",
       "[0, cos(q6), -sin(q6), 0],\n",
       "[0, sin(q6),  cos(q6), 0],\n",
       "[0,       0,        0, 1]]))"
      ]
     },
     "execution_count": 9,
     "metadata": {},
     "output_type": "execute_result"
    }
   ],
   "source": [
    "R1 = rot_z.subs({alpha:q1})\n",
    "R2 = rot_y.subs({alpha:q2})\n",
    "R3 = rot_y.subs({alpha:q3})\n",
    "R4 = rot_x.subs({alpha:q4})\n",
    "R5 = rot_y.subs({alpha:q5})\n",
    "R6 = rot_x.subs({alpha:q6})\n",
    "R1, R2, R3, R4, R5, R6"
   ]
  },
  {
   "cell_type": "markdown",
   "metadata": {},
   "source": [
    "Multiplying them according to the robot's structure."
   ]
  },
  {
   "cell_type": "code",
   "execution_count": 10,
   "metadata": {},
   "outputs": [
    {
     "data": {
      "text/latex": [
       "$\\displaystyle \\left[\\begin{matrix}- \\left(\\left(\\operatorname{sin}\\left(q_{2}\\right) \\operatorname{cos}\\left(q_{1}\\right) \\operatorname{cos}\\left(q_{3}\\right) + \\operatorname{sin}\\left(q_{3}\\right) \\operatorname{cos}\\left(q_{1}\\right) \\operatorname{cos}\\left(q_{2}\\right)\\right) \\operatorname{cos}\\left(q_{4}\\right) + \\operatorname{sin}\\left(q_{1}\\right) \\operatorname{sin}\\left(q_{4}\\right)\\right) \\operatorname{sin}\\left(q_{5}\\right) + \\left(- \\operatorname{sin}\\left(q_{2}\\right) \\operatorname{sin}\\left(q_{3}\\right) \\operatorname{cos}\\left(q_{1}\\right) + \\operatorname{cos}\\left(q_{1}\\right) \\operatorname{cos}\\left(q_{2}\\right) \\operatorname{cos}\\left(q_{3}\\right)\\right) \\operatorname{cos}\\left(q_{5}\\right) & \\left(\\left(\\left(\\operatorname{sin}\\left(q_{2}\\right) \\operatorname{cos}\\left(q_{1}\\right) \\operatorname{cos}\\left(q_{3}\\right) + \\operatorname{sin}\\left(q_{3}\\right) \\operatorname{cos}\\left(q_{1}\\right) \\operatorname{cos}\\left(q_{2}\\right)\\right) \\operatorname{cos}\\left(q_{4}\\right) + \\operatorname{sin}\\left(q_{1}\\right) \\operatorname{sin}\\left(q_{4}\\right)\\right) \\operatorname{cos}\\left(q_{5}\\right) + \\left(- \\operatorname{sin}\\left(q_{2}\\right) \\operatorname{sin}\\left(q_{3}\\right) \\operatorname{cos}\\left(q_{1}\\right) + \\operatorname{cos}\\left(q_{1}\\right) \\operatorname{cos}\\left(q_{2}\\right) \\operatorname{cos}\\left(q_{3}\\right)\\right) \\operatorname{sin}\\left(q_{5}\\right)\\right) \\operatorname{sin}\\left(q_{6}\\right) + \\left(\\left(\\operatorname{sin}\\left(q_{2}\\right) \\operatorname{cos}\\left(q_{1}\\right) \\operatorname{cos}\\left(q_{3}\\right) + \\operatorname{sin}\\left(q_{3}\\right) \\operatorname{cos}\\left(q_{1}\\right) \\operatorname{cos}\\left(q_{2}\\right)\\right) \\operatorname{sin}\\left(q_{4}\\right) - \\operatorname{sin}\\left(q_{1}\\right) \\operatorname{cos}\\left(q_{4}\\right)\\right) \\operatorname{cos}\\left(q_{6}\\right) & \\left(\\left(\\left(\\operatorname{sin}\\left(q_{2}\\right) \\operatorname{cos}\\left(q_{1}\\right) \\operatorname{cos}\\left(q_{3}\\right) + \\operatorname{sin}\\left(q_{3}\\right) \\operatorname{cos}\\left(q_{1}\\right) \\operatorname{cos}\\left(q_{2}\\right)\\right) \\operatorname{cos}\\left(q_{4}\\right) + \\operatorname{sin}\\left(q_{1}\\right) \\operatorname{sin}\\left(q_{4}\\right)\\right) \\operatorname{cos}\\left(q_{5}\\right) + \\left(- \\operatorname{sin}\\left(q_{2}\\right) \\operatorname{sin}\\left(q_{3}\\right) \\operatorname{cos}\\left(q_{1}\\right) + \\operatorname{cos}\\left(q_{1}\\right) \\operatorname{cos}\\left(q_{2}\\right) \\operatorname{cos}\\left(q_{3}\\right)\\right) \\operatorname{sin}\\left(q_{5}\\right)\\right) \\operatorname{cos}\\left(q_{6}\\right) - \\left(\\left(\\operatorname{sin}\\left(q_{2}\\right) \\operatorname{cos}\\left(q_{1}\\right) \\operatorname{cos}\\left(q_{3}\\right) + \\operatorname{sin}\\left(q_{3}\\right) \\operatorname{cos}\\left(q_{1}\\right) \\operatorname{cos}\\left(q_{2}\\right)\\right) \\operatorname{sin}\\left(q_{4}\\right) - \\operatorname{sin}\\left(q_{1}\\right) \\operatorname{cos}\\left(q_{4}\\right)\\right) \\operatorname{sin}\\left(q_{6}\\right) & - 215 \\left(\\left(\\operatorname{sin}\\left(q_{2}\\right) \\operatorname{cos}\\left(q_{1}\\right) \\operatorname{cos}\\left(q_{3}\\right) + \\operatorname{sin}\\left(q_{3}\\right) \\operatorname{cos}\\left(q_{1}\\right) \\operatorname{cos}\\left(q_{2}\\right)\\right) \\operatorname{cos}\\left(q_{4}\\right) + \\operatorname{sin}\\left(q_{1}\\right) \\operatorname{sin}\\left(q_{4}\\right)\\right) \\operatorname{sin}\\left(q_{5}\\right) + 215 \\left(- \\operatorname{sin}\\left(q_{2}\\right) \\operatorname{sin}\\left(q_{3}\\right) \\operatorname{cos}\\left(q_{1}\\right) + \\operatorname{cos}\\left(q_{1}\\right) \\operatorname{cos}\\left(q_{2}\\right) \\operatorname{cos}\\left(q_{3}\\right)\\right) \\operatorname{cos}\\left(q_{5}\\right) - 1280 \\operatorname{sin}\\left(q_{2}\\right) \\operatorname{sin}\\left(q_{3}\\right) \\operatorname{cos}\\left(q_{1}\\right) + 225 \\operatorname{sin}\\left(q_{2}\\right) \\operatorname{cos}\\left(q_{1}\\right) \\operatorname{cos}\\left(q_{3}\\right) + 225 \\operatorname{sin}\\left(q_{3}\\right) \\operatorname{cos}\\left(q_{1}\\right) \\operatorname{cos}\\left(q_{2}\\right) + 1280 \\operatorname{cos}\\left(q_{1}\\right) \\operatorname{cos}\\left(q_{2}\\right) \\operatorname{cos}\\left(q_{3}\\right) + 1075 \\operatorname{cos}\\left(q_{1}\\right) \\operatorname{cos}\\left(q_{2}\\right) + 312 \\operatorname{cos}\\left(q_{1}\\right)\\\\- \\left(\\left(\\operatorname{sin}\\left(q_{1}\\right) \\operatorname{sin}\\left(q_{2}\\right) \\operatorname{cos}\\left(q_{3}\\right) + \\operatorname{sin}\\left(q_{1}\\right) \\operatorname{sin}\\left(q_{3}\\right) \\operatorname{cos}\\left(q_{2}\\right)\\right) \\operatorname{cos}\\left(q_{4}\\right) - \\operatorname{sin}\\left(q_{4}\\right) \\operatorname{cos}\\left(q_{1}\\right)\\right) \\operatorname{sin}\\left(q_{5}\\right) + \\left(- \\operatorname{sin}\\left(q_{1}\\right) \\operatorname{sin}\\left(q_{2}\\right) \\operatorname{sin}\\left(q_{3}\\right) + \\operatorname{sin}\\left(q_{1}\\right) \\operatorname{cos}\\left(q_{2}\\right) \\operatorname{cos}\\left(q_{3}\\right)\\right) \\operatorname{cos}\\left(q_{5}\\right) & \\left(\\left(\\left(\\operatorname{sin}\\left(q_{1}\\right) \\operatorname{sin}\\left(q_{2}\\right) \\operatorname{cos}\\left(q_{3}\\right) + \\operatorname{sin}\\left(q_{1}\\right) \\operatorname{sin}\\left(q_{3}\\right) \\operatorname{cos}\\left(q_{2}\\right)\\right) \\operatorname{cos}\\left(q_{4}\\right) - \\operatorname{sin}\\left(q_{4}\\right) \\operatorname{cos}\\left(q_{1}\\right)\\right) \\operatorname{cos}\\left(q_{5}\\right) + \\left(- \\operatorname{sin}\\left(q_{1}\\right) \\operatorname{sin}\\left(q_{2}\\right) \\operatorname{sin}\\left(q_{3}\\right) + \\operatorname{sin}\\left(q_{1}\\right) \\operatorname{cos}\\left(q_{2}\\right) \\operatorname{cos}\\left(q_{3}\\right)\\right) \\operatorname{sin}\\left(q_{5}\\right)\\right) \\operatorname{sin}\\left(q_{6}\\right) + \\left(\\left(\\operatorname{sin}\\left(q_{1}\\right) \\operatorname{sin}\\left(q_{2}\\right) \\operatorname{cos}\\left(q_{3}\\right) + \\operatorname{sin}\\left(q_{1}\\right) \\operatorname{sin}\\left(q_{3}\\right) \\operatorname{cos}\\left(q_{2}\\right)\\right) \\operatorname{sin}\\left(q_{4}\\right) + \\operatorname{cos}\\left(q_{1}\\right) \\operatorname{cos}\\left(q_{4}\\right)\\right) \\operatorname{cos}\\left(q_{6}\\right) & \\left(\\left(\\left(\\operatorname{sin}\\left(q_{1}\\right) \\operatorname{sin}\\left(q_{2}\\right) \\operatorname{cos}\\left(q_{3}\\right) + \\operatorname{sin}\\left(q_{1}\\right) \\operatorname{sin}\\left(q_{3}\\right) \\operatorname{cos}\\left(q_{2}\\right)\\right) \\operatorname{cos}\\left(q_{4}\\right) - \\operatorname{sin}\\left(q_{4}\\right) \\operatorname{cos}\\left(q_{1}\\right)\\right) \\operatorname{cos}\\left(q_{5}\\right) + \\left(- \\operatorname{sin}\\left(q_{1}\\right) \\operatorname{sin}\\left(q_{2}\\right) \\operatorname{sin}\\left(q_{3}\\right) + \\operatorname{sin}\\left(q_{1}\\right) \\operatorname{cos}\\left(q_{2}\\right) \\operatorname{cos}\\left(q_{3}\\right)\\right) \\operatorname{sin}\\left(q_{5}\\right)\\right) \\operatorname{cos}\\left(q_{6}\\right) - \\left(\\left(\\operatorname{sin}\\left(q_{1}\\right) \\operatorname{sin}\\left(q_{2}\\right) \\operatorname{cos}\\left(q_{3}\\right) + \\operatorname{sin}\\left(q_{1}\\right) \\operatorname{sin}\\left(q_{3}\\right) \\operatorname{cos}\\left(q_{2}\\right)\\right) \\operatorname{sin}\\left(q_{4}\\right) + \\operatorname{cos}\\left(q_{1}\\right) \\operatorname{cos}\\left(q_{4}\\right)\\right) \\operatorname{sin}\\left(q_{6}\\right) & - 215 \\left(\\left(\\operatorname{sin}\\left(q_{1}\\right) \\operatorname{sin}\\left(q_{2}\\right) \\operatorname{cos}\\left(q_{3}\\right) + \\operatorname{sin}\\left(q_{1}\\right) \\operatorname{sin}\\left(q_{3}\\right) \\operatorname{cos}\\left(q_{2}\\right)\\right) \\operatorname{cos}\\left(q_{4}\\right) - \\operatorname{sin}\\left(q_{4}\\right) \\operatorname{cos}\\left(q_{1}\\right)\\right) \\operatorname{sin}\\left(q_{5}\\right) + 215 \\left(- \\operatorname{sin}\\left(q_{1}\\right) \\operatorname{sin}\\left(q_{2}\\right) \\operatorname{sin}\\left(q_{3}\\right) + \\operatorname{sin}\\left(q_{1}\\right) \\operatorname{cos}\\left(q_{2}\\right) \\operatorname{cos}\\left(q_{3}\\right)\\right) \\operatorname{cos}\\left(q_{5}\\right) - 1280 \\operatorname{sin}\\left(q_{1}\\right) \\operatorname{sin}\\left(q_{2}\\right) \\operatorname{sin}\\left(q_{3}\\right) + 225 \\operatorname{sin}\\left(q_{1}\\right) \\operatorname{sin}\\left(q_{2}\\right) \\operatorname{cos}\\left(q_{3}\\right) + 225 \\operatorname{sin}\\left(q_{1}\\right) \\operatorname{sin}\\left(q_{3}\\right) \\operatorname{cos}\\left(q_{2}\\right) + 1280 \\operatorname{sin}\\left(q_{1}\\right) \\operatorname{cos}\\left(q_{2}\\right) \\operatorname{cos}\\left(q_{3}\\right) + 1075 \\operatorname{sin}\\left(q_{1}\\right) \\operatorname{cos}\\left(q_{2}\\right) + 312 \\operatorname{sin}\\left(q_{1}\\right)\\\\- \\left(- \\operatorname{sin}\\left(q_{2}\\right) \\operatorname{sin}\\left(q_{3}\\right) + \\operatorname{cos}\\left(q_{2}\\right) \\operatorname{cos}\\left(q_{3}\\right)\\right) \\operatorname{sin}\\left(q_{5}\\right) \\operatorname{cos}\\left(q_{4}\\right) + \\left(- \\operatorname{sin}\\left(q_{2}\\right) \\operatorname{cos}\\left(q_{3}\\right) - \\operatorname{sin}\\left(q_{3}\\right) \\operatorname{cos}\\left(q_{2}\\right)\\right) \\operatorname{cos}\\left(q_{5}\\right) & \\left(- \\operatorname{sin}\\left(q_{2}\\right) \\operatorname{sin}\\left(q_{3}\\right) + \\operatorname{cos}\\left(q_{2}\\right) \\operatorname{cos}\\left(q_{3}\\right)\\right) \\operatorname{sin}\\left(q_{4}\\right) \\operatorname{cos}\\left(q_{6}\\right) + \\left(\\left(- \\operatorname{sin}\\left(q_{2}\\right) \\operatorname{sin}\\left(q_{3}\\right) + \\operatorname{cos}\\left(q_{2}\\right) \\operatorname{cos}\\left(q_{3}\\right)\\right) \\operatorname{cos}\\left(q_{4}\\right) \\operatorname{cos}\\left(q_{5}\\right) + \\left(- \\operatorname{sin}\\left(q_{2}\\right) \\operatorname{cos}\\left(q_{3}\\right) - \\operatorname{sin}\\left(q_{3}\\right) \\operatorname{cos}\\left(q_{2}\\right)\\right) \\operatorname{sin}\\left(q_{5}\\right)\\right) \\operatorname{sin}\\left(q_{6}\\right) & - \\left(- \\operatorname{sin}\\left(q_{2}\\right) \\operatorname{sin}\\left(q_{3}\\right) + \\operatorname{cos}\\left(q_{2}\\right) \\operatorname{cos}\\left(q_{3}\\right)\\right) \\operatorname{sin}\\left(q_{4}\\right) \\operatorname{sin}\\left(q_{6}\\right) + \\left(\\left(- \\operatorname{sin}\\left(q_{2}\\right) \\operatorname{sin}\\left(q_{3}\\right) + \\operatorname{cos}\\left(q_{2}\\right) \\operatorname{cos}\\left(q_{3}\\right)\\right) \\operatorname{cos}\\left(q_{4}\\right) \\operatorname{cos}\\left(q_{5}\\right) + \\left(- \\operatorname{sin}\\left(q_{2}\\right) \\operatorname{cos}\\left(q_{3}\\right) - \\operatorname{sin}\\left(q_{3}\\right) \\operatorname{cos}\\left(q_{2}\\right)\\right) \\operatorname{sin}\\left(q_{5}\\right)\\right) \\operatorname{cos}\\left(q_{6}\\right) & - 215 \\left(- \\operatorname{sin}\\left(q_{2}\\right) \\operatorname{sin}\\left(q_{3}\\right) + \\operatorname{cos}\\left(q_{2}\\right) \\operatorname{cos}\\left(q_{3}\\right)\\right) \\operatorname{sin}\\left(q_{5}\\right) \\operatorname{cos}\\left(q_{4}\\right) + 215 \\left(- \\operatorname{sin}\\left(q_{2}\\right) \\operatorname{cos}\\left(q_{3}\\right) - \\operatorname{sin}\\left(q_{3}\\right) \\operatorname{cos}\\left(q_{2}\\right)\\right) \\operatorname{cos}\\left(q_{5}\\right) - 225 \\operatorname{sin}\\left(q_{2}\\right) \\operatorname{sin}\\left(q_{3}\\right) - 1280 \\operatorname{sin}\\left(q_{2}\\right) \\operatorname{cos}\\left(q_{3}\\right) - 1075 \\operatorname{sin}\\left(q_{2}\\right) - 1280 \\operatorname{sin}\\left(q_{3}\\right) \\operatorname{cos}\\left(q_{2}\\right) + 225 \\operatorname{cos}\\left(q_{2}\\right) \\operatorname{cos}\\left(q_{3}\\right) + 670\\\\0 & 0 & 0 & 1\\end{matrix}\\right]$"
      ],
      "text/plain": [
       "Matrix([\n",
       "[-((sin(q2)*cos(q1)*cos(q3) + sin(q3)*cos(q1)*cos(q2))*cos(q4) + sin(q1)*sin(q4))*sin(q5) + (-sin(q2)*sin(q3)*cos(q1) + cos(q1)*cos(q2)*cos(q3))*cos(q5), (((sin(q2)*cos(q1)*cos(q3) + sin(q3)*cos(q1)*cos(q2))*cos(q4) + sin(q1)*sin(q4))*cos(q5) + (-sin(q2)*sin(q3)*cos(q1) + cos(q1)*cos(q2)*cos(q3))*sin(q5))*sin(q6) + ((sin(q2)*cos(q1)*cos(q3) + sin(q3)*cos(q1)*cos(q2))*sin(q4) - sin(q1)*cos(q4))*cos(q6), (((sin(q2)*cos(q1)*cos(q3) + sin(q3)*cos(q1)*cos(q2))*cos(q4) + sin(q1)*sin(q4))*cos(q5) + (-sin(q2)*sin(q3)*cos(q1) + cos(q1)*cos(q2)*cos(q3))*sin(q5))*cos(q6) - ((sin(q2)*cos(q1)*cos(q3) + sin(q3)*cos(q1)*cos(q2))*sin(q4) - sin(q1)*cos(q4))*sin(q6), -215*((sin(q2)*cos(q1)*cos(q3) + sin(q3)*cos(q1)*cos(q2))*cos(q4) + sin(q1)*sin(q4))*sin(q5) + 215*(-sin(q2)*sin(q3)*cos(q1) + cos(q1)*cos(q2)*cos(q3))*cos(q5) - 1280*sin(q2)*sin(q3)*cos(q1) + 225*sin(q2)*cos(q1)*cos(q3) + 225*sin(q3)*cos(q1)*cos(q2) + 1280*cos(q1)*cos(q2)*cos(q3) + 1075*cos(q1)*cos(q2) + 312*cos(q1)],\n",
       "[-((sin(q1)*sin(q2)*cos(q3) + sin(q1)*sin(q3)*cos(q2))*cos(q4) - sin(q4)*cos(q1))*sin(q5) + (-sin(q1)*sin(q2)*sin(q3) + sin(q1)*cos(q2)*cos(q3))*cos(q5), (((sin(q1)*sin(q2)*cos(q3) + sin(q1)*sin(q3)*cos(q2))*cos(q4) - sin(q4)*cos(q1))*cos(q5) + (-sin(q1)*sin(q2)*sin(q3) + sin(q1)*cos(q2)*cos(q3))*sin(q5))*sin(q6) + ((sin(q1)*sin(q2)*cos(q3) + sin(q1)*sin(q3)*cos(q2))*sin(q4) + cos(q1)*cos(q4))*cos(q6), (((sin(q1)*sin(q2)*cos(q3) + sin(q1)*sin(q3)*cos(q2))*cos(q4) - sin(q4)*cos(q1))*cos(q5) + (-sin(q1)*sin(q2)*sin(q3) + sin(q1)*cos(q2)*cos(q3))*sin(q5))*cos(q6) - ((sin(q1)*sin(q2)*cos(q3) + sin(q1)*sin(q3)*cos(q2))*sin(q4) + cos(q1)*cos(q4))*sin(q6), -215*((sin(q1)*sin(q2)*cos(q3) + sin(q1)*sin(q3)*cos(q2))*cos(q4) - sin(q4)*cos(q1))*sin(q5) + 215*(-sin(q1)*sin(q2)*sin(q3) + sin(q1)*cos(q2)*cos(q3))*cos(q5) - 1280*sin(q1)*sin(q2)*sin(q3) + 225*sin(q1)*sin(q2)*cos(q3) + 225*sin(q1)*sin(q3)*cos(q2) + 1280*sin(q1)*cos(q2)*cos(q3) + 1075*sin(q1)*cos(q2) + 312*sin(q1)],\n",
       "[                                                   -(-sin(q2)*sin(q3) + cos(q2)*cos(q3))*sin(q5)*cos(q4) + (-sin(q2)*cos(q3) - sin(q3)*cos(q2))*cos(q5),                                                                                       (-sin(q2)*sin(q3) + cos(q2)*cos(q3))*sin(q4)*cos(q6) + ((-sin(q2)*sin(q3) + cos(q2)*cos(q3))*cos(q4)*cos(q5) + (-sin(q2)*cos(q3) - sin(q3)*cos(q2))*sin(q5))*sin(q6),                                                                                      -(-sin(q2)*sin(q3) + cos(q2)*cos(q3))*sin(q4)*sin(q6) + ((-sin(q2)*sin(q3) + cos(q2)*cos(q3))*cos(q4)*cos(q5) + (-sin(q2)*cos(q3) - sin(q3)*cos(q2))*sin(q5))*cos(q6),                                                                                                    -215*(-sin(q2)*sin(q3) + cos(q2)*cos(q3))*sin(q5)*cos(q4) + 215*(-sin(q2)*cos(q3) - sin(q3)*cos(q2))*cos(q5) - 225*sin(q2)*sin(q3) - 1280*sin(q2)*cos(q3) - 1075*sin(q2) - 1280*sin(q3)*cos(q2) + 225*cos(q2)*cos(q3) + 670],\n",
       "[                                                                                                                                                      0,                                                                                                                                                                                                                                                          0,                                                                                                                                                                                                                                                          0,                                                                                                                                                                                                                                                                                                                              1]])"
      ]
     },
     "execution_count": 10,
     "metadata": {},
     "output_type": "execute_result"
    }
   ],
   "source": [
    "T = (T1*R1*T2*R2*T3*R3*T4*T5*R4*R5*R6*T6)\n",
    "T"
   ]
  },
  {
   "cell_type": "markdown",
   "metadata": {},
   "source": [
    "Simlifying it with the build-in function."
   ]
  },
  {
   "cell_type": "code",
   "execution_count": 11,
   "metadata": {},
   "outputs": [
    {
     "data": {
      "text/latex": [
       "$\\displaystyle \\left[\\begin{matrix}- \\left(\\operatorname{sin}\\left(q_{2} + q_{3}\\right) \\operatorname{cos}\\left(q_{1}\\right) \\operatorname{cos}\\left(q_{4}\\right) + \\operatorname{sin}\\left(q_{1}\\right) \\operatorname{sin}\\left(q_{4}\\right)\\right) \\operatorname{sin}\\left(q_{5}\\right) + \\operatorname{cos}\\left(q_{2} + q_{3}\\right) \\operatorname{cos}\\left(q_{1}\\right) \\operatorname{cos}\\left(q_{5}\\right) & \\left(\\left(\\operatorname{sin}\\left(q_{2} + q_{3}\\right) \\operatorname{cos}\\left(q_{1}\\right) \\operatorname{cos}\\left(q_{4}\\right) + \\operatorname{sin}\\left(q_{1}\\right) \\operatorname{sin}\\left(q_{4}\\right)\\right) \\operatorname{cos}\\left(q_{5}\\right) + \\operatorname{sin}\\left(q_{5}\\right) \\operatorname{cos}\\left(q_{2} + q_{3}\\right) \\operatorname{cos}\\left(q_{1}\\right)\\right) \\operatorname{sin}\\left(q_{6}\\right) + \\left(\\operatorname{sin}\\left(q_{2} + q_{3}\\right) \\operatorname{sin}\\left(q_{4}\\right) \\operatorname{cos}\\left(q_{1}\\right) - \\operatorname{sin}\\left(q_{1}\\right) \\operatorname{cos}\\left(q_{4}\\right)\\right) \\operatorname{cos}\\left(q_{6}\\right) & \\left(\\left(\\operatorname{sin}\\left(q_{2} + q_{3}\\right) \\operatorname{cos}\\left(q_{1}\\right) \\operatorname{cos}\\left(q_{4}\\right) + \\operatorname{sin}\\left(q_{1}\\right) \\operatorname{sin}\\left(q_{4}\\right)\\right) \\operatorname{cos}\\left(q_{5}\\right) + \\operatorname{sin}\\left(q_{5}\\right) \\operatorname{cos}\\left(q_{2} + q_{3}\\right) \\operatorname{cos}\\left(q_{1}\\right)\\right) \\operatorname{cos}\\left(q_{6}\\right) - \\left(\\operatorname{sin}\\left(q_{2} + q_{3}\\right) \\operatorname{sin}\\left(q_{4}\\right) \\operatorname{cos}\\left(q_{1}\\right) - \\operatorname{sin}\\left(q_{1}\\right) \\operatorname{cos}\\left(q_{4}\\right)\\right) \\operatorname{sin}\\left(q_{6}\\right) & - 215 \\operatorname{sin}\\left(q_{2} + q_{3}\\right) \\operatorname{sin}\\left(q_{5}\\right) \\operatorname{cos}\\left(q_{1}\\right) \\operatorname{cos}\\left(q_{4}\\right) + 225 \\operatorname{sin}\\left(q_{2} + q_{3}\\right) \\operatorname{cos}\\left(q_{1}\\right) - 215 \\operatorname{sin}\\left(q_{1}\\right) \\operatorname{sin}\\left(q_{4}\\right) \\operatorname{sin}\\left(q_{5}\\right) + 215 \\operatorname{cos}\\left(q_{2} + q_{3}\\right) \\operatorname{cos}\\left(q_{1}\\right) \\operatorname{cos}\\left(q_{5}\\right) + 1280 \\operatorname{cos}\\left(q_{2} + q_{3}\\right) \\operatorname{cos}\\left(q_{1}\\right) + 1075 \\operatorname{cos}\\left(q_{1}\\right) \\operatorname{cos}\\left(q_{2}\\right) + 312 \\operatorname{cos}\\left(q_{1}\\right)\\\\- \\left(\\operatorname{sin}\\left(q_{2} + q_{3}\\right) \\operatorname{sin}\\left(q_{1}\\right) \\operatorname{cos}\\left(q_{4}\\right) - \\operatorname{sin}\\left(q_{4}\\right) \\operatorname{cos}\\left(q_{1}\\right)\\right) \\operatorname{sin}\\left(q_{5}\\right) + \\operatorname{sin}\\left(q_{1}\\right) \\operatorname{cos}\\left(q_{2} + q_{3}\\right) \\operatorname{cos}\\left(q_{5}\\right) & \\left(\\left(\\operatorname{sin}\\left(q_{2} + q_{3}\\right) \\operatorname{sin}\\left(q_{1}\\right) \\operatorname{cos}\\left(q_{4}\\right) - \\operatorname{sin}\\left(q_{4}\\right) \\operatorname{cos}\\left(q_{1}\\right)\\right) \\operatorname{cos}\\left(q_{5}\\right) + \\operatorname{sin}\\left(q_{1}\\right) \\operatorname{sin}\\left(q_{5}\\right) \\operatorname{cos}\\left(q_{2} + q_{3}\\right)\\right) \\operatorname{sin}\\left(q_{6}\\right) + \\left(\\operatorname{sin}\\left(q_{2} + q_{3}\\right) \\operatorname{sin}\\left(q_{1}\\right) \\operatorname{sin}\\left(q_{4}\\right) + \\operatorname{cos}\\left(q_{1}\\right) \\operatorname{cos}\\left(q_{4}\\right)\\right) \\operatorname{cos}\\left(q_{6}\\right) & \\left(\\left(\\operatorname{sin}\\left(q_{2} + q_{3}\\right) \\operatorname{sin}\\left(q_{1}\\right) \\operatorname{cos}\\left(q_{4}\\right) - \\operatorname{sin}\\left(q_{4}\\right) \\operatorname{cos}\\left(q_{1}\\right)\\right) \\operatorname{cos}\\left(q_{5}\\right) + \\operatorname{sin}\\left(q_{1}\\right) \\operatorname{sin}\\left(q_{5}\\right) \\operatorname{cos}\\left(q_{2} + q_{3}\\right)\\right) \\operatorname{cos}\\left(q_{6}\\right) - \\left(\\operatorname{sin}\\left(q_{2} + q_{3}\\right) \\operatorname{sin}\\left(q_{1}\\right) \\operatorname{sin}\\left(q_{4}\\right) + \\operatorname{cos}\\left(q_{1}\\right) \\operatorname{cos}\\left(q_{4}\\right)\\right) \\operatorname{sin}\\left(q_{6}\\right) & - 215 \\operatorname{sin}\\left(q_{2} + q_{3}\\right) \\operatorname{sin}\\left(q_{1}\\right) \\operatorname{sin}\\left(q_{5}\\right) \\operatorname{cos}\\left(q_{4}\\right) + 225 \\operatorname{sin}\\left(q_{2} + q_{3}\\right) \\operatorname{sin}\\left(q_{1}\\right) + 215 \\operatorname{sin}\\left(q_{1}\\right) \\operatorname{cos}\\left(q_{2} + q_{3}\\right) \\operatorname{cos}\\left(q_{5}\\right) + 1280 \\operatorname{sin}\\left(q_{1}\\right) \\operatorname{cos}\\left(q_{2} + q_{3}\\right) + 1075 \\operatorname{sin}\\left(q_{1}\\right) \\operatorname{cos}\\left(q_{2}\\right) + 312 \\operatorname{sin}\\left(q_{1}\\right) + 215 \\operatorname{sin}\\left(q_{4}\\right) \\operatorname{sin}\\left(q_{5}\\right) \\operatorname{cos}\\left(q_{1}\\right)\\\\- \\operatorname{sin}\\left(q_{2} + q_{3}\\right) \\operatorname{cos}\\left(q_{5}\\right) - \\operatorname{sin}\\left(q_{5}\\right) \\operatorname{cos}\\left(q_{2} + q_{3}\\right) \\operatorname{cos}\\left(q_{4}\\right) & - \\left(\\operatorname{sin}\\left(q_{2} + q_{3}\\right) \\operatorname{sin}\\left(q_{5}\\right) - \\operatorname{cos}\\left(q_{2} + q_{3}\\right) \\operatorname{cos}\\left(q_{4}\\right) \\operatorname{cos}\\left(q_{5}\\right)\\right) \\operatorname{sin}\\left(q_{6}\\right) + \\operatorname{sin}\\left(q_{4}\\right) \\operatorname{cos}\\left(q_{2} + q_{3}\\right) \\operatorname{cos}\\left(q_{6}\\right) & - \\left(\\operatorname{sin}\\left(q_{2} + q_{3}\\right) \\operatorname{sin}\\left(q_{5}\\right) - \\operatorname{cos}\\left(q_{2} + q_{3}\\right) \\operatorname{cos}\\left(q_{4}\\right) \\operatorname{cos}\\left(q_{5}\\right)\\right) \\operatorname{cos}\\left(q_{6}\\right) - \\operatorname{sin}\\left(q_{4}\\right) \\operatorname{sin}\\left(q_{6}\\right) \\operatorname{cos}\\left(q_{2} + q_{3}\\right) & - 215 \\operatorname{sin}\\left(q_{2} + q_{3}\\right) \\operatorname{cos}\\left(q_{5}\\right) - 1280 \\operatorname{sin}\\left(q_{2} + q_{3}\\right) - 1075 \\operatorname{sin}\\left(q_{2}\\right) - 215 \\operatorname{sin}\\left(q_{5}\\right) \\operatorname{cos}\\left(q_{2} + q_{3}\\right) \\operatorname{cos}\\left(q_{4}\\right) + 225 \\operatorname{cos}\\left(q_{2} + q_{3}\\right) + 670\\\\0 & 0 & 0 & 1\\end{matrix}\\right]$"
      ],
      "text/plain": [
       "Matrix([\n",
       "[-(sin(q2 + q3)*cos(q1)*cos(q4) + sin(q1)*sin(q4))*sin(q5) + cos(q2 + q3)*cos(q1)*cos(q5), ((sin(q2 + q3)*cos(q1)*cos(q4) + sin(q1)*sin(q4))*cos(q5) + sin(q5)*cos(q2 + q3)*cos(q1))*sin(q6) + (sin(q2 + q3)*sin(q4)*cos(q1) - sin(q1)*cos(q4))*cos(q6), ((sin(q2 + q3)*cos(q1)*cos(q4) + sin(q1)*sin(q4))*cos(q5) + sin(q5)*cos(q2 + q3)*cos(q1))*cos(q6) - (sin(q2 + q3)*sin(q4)*cos(q1) - sin(q1)*cos(q4))*sin(q6), -215*sin(q2 + q3)*sin(q5)*cos(q1)*cos(q4) + 225*sin(q2 + q3)*cos(q1) - 215*sin(q1)*sin(q4)*sin(q5) + 215*cos(q2 + q3)*cos(q1)*cos(q5) + 1280*cos(q2 + q3)*cos(q1) + 1075*cos(q1)*cos(q2) + 312*cos(q1)],\n",
       "[-(sin(q2 + q3)*sin(q1)*cos(q4) - sin(q4)*cos(q1))*sin(q5) + sin(q1)*cos(q2 + q3)*cos(q5), ((sin(q2 + q3)*sin(q1)*cos(q4) - sin(q4)*cos(q1))*cos(q5) + sin(q1)*sin(q5)*cos(q2 + q3))*sin(q6) + (sin(q2 + q3)*sin(q1)*sin(q4) + cos(q1)*cos(q4))*cos(q6), ((sin(q2 + q3)*sin(q1)*cos(q4) - sin(q4)*cos(q1))*cos(q5) + sin(q1)*sin(q5)*cos(q2 + q3))*cos(q6) - (sin(q2 + q3)*sin(q1)*sin(q4) + cos(q1)*cos(q4))*sin(q6), -215*sin(q2 + q3)*sin(q1)*sin(q5)*cos(q4) + 225*sin(q2 + q3)*sin(q1) + 215*sin(q1)*cos(q2 + q3)*cos(q5) + 1280*sin(q1)*cos(q2 + q3) + 1075*sin(q1)*cos(q2) + 312*sin(q1) + 215*sin(q4)*sin(q5)*cos(q1)],\n",
       "[                                    -sin(q2 + q3)*cos(q5) - sin(q5)*cos(q2 + q3)*cos(q4),                                                                -(sin(q2 + q3)*sin(q5) - cos(q2 + q3)*cos(q4)*cos(q5))*sin(q6) + sin(q4)*cos(q2 + q3)*cos(q6),                                                                -(sin(q2 + q3)*sin(q5) - cos(q2 + q3)*cos(q4)*cos(q5))*cos(q6) - sin(q4)*sin(q6)*cos(q2 + q3),                                                                               -215*sin(q2 + q3)*cos(q5) - 1280*sin(q2 + q3) - 1075*sin(q2) - 215*sin(q5)*cos(q2 + q3)*cos(q4) + 225*cos(q2 + q3) + 670],\n",
       "[                                                                                       0,                                                                                                                                                            0,                                                                                                                                                            0,                                                                                                                                                                                                      1]])"
      ]
     },
     "execution_count": 11,
     "metadata": {},
     "output_type": "execute_result"
    }
   ],
   "source": [
    "T_simp = sp.simplify(T)\n",
    "T_simp"
   ]
  },
  {
   "cell_type": "markdown",
   "metadata": {},
   "source": [
    "Declaring a function ```DK``` that accepts 6 angles of the joints, checks their possibility and returns a homogeneous matrix."
   ]
  },
  {
   "cell_type": "code",
   "execution_count": 12,
   "metadata": {},
   "outputs": [],
   "source": [
    "def DK(angle_1,angle_2,angle_3,angle_4,angle_5, angle_6):\n",
    "    if angle_1 < -185 or angle_1 > 185:\n",
    "        print('Incorrect angle q1 provided.')\n",
    "        return\n",
    "    if angle_2 < -78 or angle_2 > 78:\n",
    "        print('Incorrect angle q2 provided.')\n",
    "        return\n",
    "    if angle_3 < -156 or angle_3 > 156:\n",
    "        print('Incorrect angle q3 provided.')\n",
    "        return\n",
    "    if angle_4 < -360 or angle_4 > 360:\n",
    "        print('Incorrect angle q4 provided.')\n",
    "        return\n",
    "    if angle_5 < -125 or angle_5 > 125:\n",
    "        print('Incorrect angle q5 provided.')\n",
    "        return\n",
    "    if angle_6 < -360 or angle_6 > 360:\n",
    "        print('Incorrect angle q6 provided.')\n",
    "        return\n",
    "    \n",
    "    return T_simp.subs({q1:radians(angle_1), q2:radians(angle_2), q3:radians(angle_3), q4:radians(angle_4), q5:radians(angle_5) ,q6:radians(angle_6)})\n",
    "    "
   ]
  },
  {
   "cell_type": "markdown",
   "metadata": {},
   "source": [
    "With initial possition end-effector will have such coordinates. Function ```nsimplify``` simlifies an equation with assuming really small numbers as zeroes."
   ]
  },
  {
   "cell_type": "code",
   "execution_count": 21,
   "metadata": {},
   "outputs": [
    {
     "data": {
      "text/latex": [
       "$\\displaystyle \\left[ 2882, \\  0, \\  895\\right]$"
      ],
      "text/plain": [
       "[2882, 0, 895]"
      ]
     },
     "execution_count": 21,
     "metadata": {},
     "output_type": "execute_result"
    }
   ],
   "source": [
    "M = DK(0,0,0,0,0,0)\n",
    "sp.nsimplify(M*sp.Matrix([0,0,0,1]),tolerance=1e-10,rational=True)[0:3]"
   ]
  },
  {
   "cell_type": "markdown",
   "metadata": {},
   "source": [
    "Now we will rotate the first joint on 90 degrees."
   ]
  },
  {
   "cell_type": "code",
   "execution_count": 23,
   "metadata": {},
   "outputs": [
    {
     "data": {
      "text/latex": [
       "$\\displaystyle \\left[ 0, \\  2882, \\  895\\right]$"
      ],
      "text/plain": [
       "[0, 2882, 895]"
      ]
     },
     "execution_count": 23,
     "metadata": {},
     "output_type": "execute_result"
    }
   ],
   "source": [
    "M = DK(90,0,0,0,0,0)\n",
    "sp.nsimplify(M*sp.Matrix([0,0,0,1]),tolerance=1e-10,rational=True)[0:3]"
   ]
  },
  {
   "cell_type": "markdown",
   "metadata": {},
   "source": [
    "And just some possition."
   ]
  },
  {
   "cell_type": "code",
   "execution_count": 27,
   "metadata": {},
   "outputs": [
    {
     "data": {
      "text/latex": [
       "$\\displaystyle \\left[ 1932.31318076148, \\  0, \\  991.13346964919\\right]$"
      ],
      "text/plain": [
       "[1932.31318076148, 0, 991.13346964919]"
      ]
     },
     "execution_count": 27,
     "metadata": {},
     "output_type": "execute_result"
    }
   ],
   "source": [
    "M = DK(0,-60,90,0,100,0)\n",
    "sp.nsimplify(M*sp.Matrix([0,0,0,1]),tolerance=1e-10)[0:3]"
   ]
  },
  {
   "cell_type": "code",
   "execution_count": null,
   "metadata": {},
   "outputs": [],
   "source": []
  }
 ],
 "metadata": {
  "kernelspec": {
   "display_name": "Python 3",
   "language": "python",
   "name": "python3"
  },
  "language_info": {
   "codemirror_mode": {
    "name": "ipython",
    "version": 3
   },
   "file_extension": ".py",
   "mimetype": "text/x-python",
   "name": "python",
   "nbconvert_exporter": "python",
   "pygments_lexer": "ipython3",
   "version": "3.7.2"
  }
 },
 "nbformat": 4,
 "nbformat_minor": 4
}
